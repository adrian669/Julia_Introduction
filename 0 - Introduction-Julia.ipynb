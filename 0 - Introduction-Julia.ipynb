{
 "cells": [
  {
   "cell_type": "markdown",
   "metadata": {},
   "source": [
    "![logo](http://forge.mmodd.org/attachments/840/julia.jpeg)\n",
    "\n",
    "\n",
    "# Présentation de JULIA\n",
    "\n",
    "Hello tout le monde !\n",
    "\n",
    "*JULIA* est un langage de programmation de haut niveau dédié au calcul scientifique et calcul haute performance. C'est un logiciel libre sous \"licence MIT\":https://github.com/JuliaLang/julia/blob/master/LICENSE.md.\n",
    "\n",
    "*JULIA* se veut la combinaison de :\n",
    "* la facilité de dévellopement des environnements interprétés comme *R*, *MATLAB*, *OCTAVE*, *SCILAB*, *PYTHON* … \n",
    "* la performance d'un langage compilé, permettant une exécution parallèle et/ou distribuée *C*, *C++*, *Fortran*...\n",
    "\n",
    "*JULIA* est jeune à l'échelle de l'age des langages. On peut voir son activité de développement [sous GITHUB](https://github.com/JuliaLang/julia), naissance en *aôut 2009*!\n",
    "\n",
    "Ce langage possède déjà un grand nombre d'atouts :\n",
    "* des fonctions mathématiques de précision numérique étendue (<code>Int128</code>, <code>Float64</code>...).\n",
    "* de nombreuses bibliothèques  (ou package) dont beaucoup écrites en Julia http://pkg.julialang.org/.\n",
    "* l'intégration naturel de très nombreuses bibliothèques en C, fortran, Python... \n",
    "* Mais surtout l'usage d'un compilateur à la volée (Just In Time) !\n",
    "\n",
    "Les quelques pages qui suivent vont - nous l'espérons- vous guider dans l'usage de *JULIA* il est possible également de consulter :\n",
    "* Le site officiel http://julialang.org/ avec une documentation très complète.\n",
    "* http://en.wikibooks.org/wiki/Introducing_Julia excellent et très complet guide de Julia.\n",
    "* https://zestedesavoir.com/articles/141/a-la-decouverte-de-julia/ très bon article à lire absoluement !\n",
    "* http://bioinfo-fr.net/julia-le-successeur-de-r un exemple en bioinfo.\n",
    "\n",
    "\n",
    "# Installation et accesibilité\n",
    "\n",
    "## Le terminal \n",
    "\n",
    "Julia est disponible sous tout OS (Mac-linux et Windows) voici la page de téléchargement officielle http://julialang.org/downloads/\n",
    "A voir également cette page pour des installation plus spécifiques comme sous linux http://julialang.org/downloads/platform.html.\n",
    "\n",
    "Une fois installé une interface _brut de pomme_ apparait, en fait, une simple console ou REPL pour Read/Evaluate/Print/Loop :\n",
    "\n",
    "![julia shell](http://forge.mmodd.org/attachments/835/julia_shel.png)\n",
    "\n",
    "Le prompt <code>julia></code> invitant la commande... \n",
    "\n",
    "Dans la console de JULIA on retrouve l'usage classique d'un terminal avec \n",
    "* \"flèche vers le haut\" pour rappeler une commande précédente.\n",
    "* \"Tab\" la tabulation qui complète ou propose la fin d'un mot.\n",
    "* Des commandes <code>pwd()</code> (affiche le répertoire courant) <code>cd()</code> (Change directory), <code>homedir()</code> (pointe sur le home directory)...\n",
    "* l'usage de <code>;</code> dans la console fait changer le prompt en ![Prompt](http://forge.mmodd.org/attachments/843/2015-04-24_1455.png)  et donne directement accès aux commande shell (unix...).\n",
    "* L'aide peut être invoquée avec <code>help(\"sin\")</code> ou <code>?sin</code> le prompt se transformant de nouveau ![aide](http://forge.mmodd.org/attachments/842/2015-04-24_1453.png).\n",
    "\n",
    "## Usage \n",
    "\n",
    "Un programme Julia est un script extension .jl on peut soit l'exécuter en ligne de commande \"julia nomfichier.jl\" ou en l'incluant "
   ]
  },
  {
   "cell_type": "code",
   "execution_count": null,
   "metadata": {
    "collapsed": false
   },
   "outputs": [],
   "source": [
    "include(\"MonFichier.jl\")"
   ]
  },
  {
   "cell_type": "markdown",
   "metadata": {},
   "source": [
    "## Editeur à coloration syntaxique\n",
    "\n",
    "Il est parfaitement possible de travailler à l'aide d'un éditeur de texte et de la console en parallèle.\n",
    "\n",
    "Il existe des fichier de configuration pour la coloration syntaxique dans les éditeurs : \n",
    "* Gedit\n",
    "* emacs\n",
    "* Notepadd++ (rechercher \"julia syntaxe highlighting\")\n",
    "* Sublime Text 3\n",
    "* Atom \n",
    "* ...\n",
    "\n",
    "Certains offre la possibilité de gérer un terminal dans une fenètre.\n",
    "\n",
    "## Environnement intégré (IDE)\n",
    "\n",
    "Il n'y a plus actuellement d'interface Julia Studio (équivallent de Rstudio)... \n",
    "\n",
    "Néanmoins certains éditeurs offrent des extensions qui \"intègrent\" Julia\n",
    "\n",
    "* Sublime Text 3 et l'extension https://github.com/quinnj/Sublime-IJulia\n",
    "* Atom et l'extension https://github.com/JunoLab/atom-julia-client\n",
    "\n",
    "[Junio](http://junolab.org/) est une interface atypique permettant l'évaluation au fur et à mesure du code. Junio est en autocontenu avec l'inclusion de Julia, disponible en télechargement sur la page de Julia http://julialang.org/downloads/\n",
    "![Juno](http://forge.mmodd.org/attachments/837/juno.png)\n",
    "\n",
    "Environnement à \n",
    "## Notebook\n",
    "\n",
    "Le notebook est façon de programmer qui permet d'obtenir plus directement un rendu plus web-publiable. La plateforme Jupyter qui héberge les notebooks, offre des possibilités d'interaction supplémentaire avec l'utilisation de widgets... \n",
    "\n",
    "On peut installer sur sa propre machine une instance de [Jupyter](http://jupyter.org/) (ex iPython) permettant de travailler dans son navigateur. Pour cela il faut installer le package [IJulia](https://github.com/JuliaLang/IJulia.jl) dans le terminal (REPL) faire :\n",
    "```julia\n",
    "Pkg.add(\"IJulia\")\n",
    "using IJulia\n",
    "notebook()\n",
    "```\n",
    "\n",
    "On peut aussi convertir un fichier notebook (extension `.ipynb`) en fichier `.jl` (ou autre): \n",
    "* Dans l'interface Jupyter faire : `File->Download as`\n",
    "* Dans un terminal : ```ipython nbconvert --to script nomfichier.ipynb```.\n"
   ]
  },
  {
   "cell_type": "markdown",
   "metadata": {
    "collapsed": true
   },
   "source": [
    "# Les Packages\n",
    "\n",
    "Julia possède une communauté très dynamique, à la fois pour développer le coeur du langage mais aussi pour mettre à disposition de nouvelles fonctionnalités qui pour certaines feront partie des prochaines versions de Julia.\n",
    "\n",
    "Un listing complet des packages officiels et disponible : http://pkg.julialang.org/\n",
    "\n",
    "Pour installer un package"
   ]
  },
  {
   "cell_type": "code",
   "execution_count": null,
   "metadata": {
    "collapsed": true
   },
   "outputs": [],
   "source": [
    "Pkg.add(\"Nom_du_Package\")"
   ]
  },
  {
   "cell_type": "markdown",
   "metadata": {},
   "source": [
    "et il est installé physiquement dans votre espace disque (répertoire .julia/).\n",
    "\n",
    "L'utilisation se fait en début de chaque programme (ou script par \"using\"). L'initialisation est assez longue (pour les versions 0.3.xx) le package étant compilé en directe. Depuis la version 0.4 les packages sont compilés (ou pré-compilés) à l'installation ou premier usage et stocké en fichier pour être rechargé plus rapidement ultérieurement."
   ]
  },
  {
   "cell_type": "code",
   "execution_count": null,
   "metadata": {
    "collapsed": true
   },
   "outputs": [],
   "source": [
    "using Nom_du_Package"
   ]
  },
  {
   "cell_type": "markdown",
   "metadata": {},
   "source": [
    "La commande Pkg permet de gérer les actions "
   ]
  },
  {
   "cell_type": "code",
   "execution_count": null,
   "metadata": {
    "collapsed": false
   },
   "outputs": [],
   "source": [
    "Pkg.rm(\"Nom_du_Package\") # rm : remove\n",
    "Pkg.update() # comme dit le nom"
   ]
  },
  {
   "cell_type": "markdown",
   "metadata": {},
   "source": [
    "On verra dans les sections suivantes l'utilisation de quelques packages plus prisés et même jusqu'à la création d'un package !"
   ]
  }
 ],
 "metadata": {
  "kernelspec": {
   "display_name": "Julia 0.4.2",
   "language": "julia",
   "name": "julia-0.4"
  },
  "language_info": {
   "file_extension": ".jl",
   "mimetype": "application/julia",
   "name": "julia",
   "version": "0.4.2"
  }
 },
 "nbformat": 4,
 "nbformat_minor": 0
}
